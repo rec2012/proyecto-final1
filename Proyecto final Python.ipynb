{
 "cells": [
  {
   "cell_type": "markdown",
   "metadata": {},
   "source": [
    "# Proyecto final de curso"
   ]
  },
  {
   "cell_type": "markdown",
   "metadata": {},
   "source": [
    "## Integrantes: Stephan Saguier, Roberto Espinola"
   ]
  },
  {
   "cell_type": "markdown",
   "metadata": {},
   "source": [
    "## Objetivo: programar el juego de ahorcado "
   ]
  },
  {
   "cell_type": "code",
   "execution_count": 31,
   "metadata": {},
   "outputs": [],
   "source": [
    "import random"
   ]
  },
  {
   "cell_type": "code",
   "execution_count": 102,
   "metadata": {},
   "outputs": [
    {
     "name": "stdout",
     "output_type": "stream",
     "text": [
      "Bienvenido al juego de ahorcado\n",
      "Reglas: dar letras en minusculas, adivinar la palabra en menos de 6 intentos. \n"
     ]
    }
   ],
   "source": [
    "print(\"Bienvenido al juego de ahorcado\")\n",
    "print(\"Reglas: dar letras en minusculas, adivinar la palabra en menos de\", len(HUD), \"intentos. \")"
   ]
  },
  {
   "cell_type": "code",
   "execution_count": 184,
   "metadata": {},
   "outputs": [],
   "source": [
    "HUD = [' ', '0', '0-', '0+', '0+=', '-0+=', '--0+=']"
   ]
  },
  {
   "cell_type": "code",
   "execution_count": 185,
   "metadata": {},
   "outputs": [
    {
     "data": {
      "text/plain": [
       "'leche'"
      ]
     },
     "execution_count": 185,
     "metadata": {},
     "output_type": "execute_result"
    }
   ],
   "source": [
    "palabras = ['arroz', 'leche', 'topo', 'pilsen', 'sol', 'playa', 'arena', 'simba', 'ruper', 'steven', 'cocobongo', 'tete']\n",
    "palabra_random = [palabras[random.randrange(len(palabras))]]\n",
    "palabra = \"\".join(palabra_random)\n",
    "palabra"
   ]
  },
  {
   "cell_type": "code",
   "execution_count": 255,
   "metadata": {},
   "outputs": [],
   "source": [
    "def acertar(char):\n",
    "    for i in range(len(palabra)):\n",
    "        if char != palabra[i]:\n",
    "            continue\n",
    "        elif char == palabra[i]:\n",
    "            return True\n",
    "        else:\n",
    "            return False"
   ]
  },
  {
   "cell_type": "code",
   "execution_count": 258,
   "metadata": {},
   "outputs": [
    {
     "name": "stdout",
     "output_type": "stream",
     "text": [
      "La palabra tiene 5 letras\n",
      "Ingrese una letra: o\n",
      "No has acertado.\n",
      "0\n",
      "Ingrese una letra: p\n",
      "No has acertado.\n",
      "0-\n",
      "Ingrese una letra: q\n",
      "No has acertado.\n",
      "0+\n",
      "Ingrese una letra: r\n",
      "No has acertado.\n",
      "0+=\n",
      "Ingrese una letra: s\n",
      "No has acertado.\n",
      "-0+=\n",
      "Ingrese una letra: t\n",
      "No has acertado.\n",
      "--0+=\n"
     ]
    }
   ],
   "source": [
    "contador = 0\n",
    "lista_aux = []\n",
    "print(\"La palabra tiene\", len(palabra), \"letras\")\n",
    "while contador < 6:\n",
    "    intento1 = input(\"Ingrese una letra: \")\n",
    "    if acertar(intento1) == True:\n",
    "        print(\"Has acertado una letra. La palabra contiene\", intento1, \", quedan\", len(palabra)-1, \"letras mas.\")\n",
    "        contador = contador\n",
    "        print(HUD[contador])\n",
    "    else:\n",
    "        contador = contador + 1\n",
    "        print(\"No has acertado.\")\n",
    "        print(HUD[contador])"
   ]
  },
  {
   "cell_type": "code",
   "execution_count": null,
   "metadata": {},
   "outputs": [],
   "source": []
  },
  {
   "cell_type": "code",
   "execution_count": null,
   "metadata": {},
   "outputs": [],
   "source": []
  }
 ],
 "metadata": {
  "kernelspec": {
   "display_name": "Python 3",
   "language": "python",
   "name": "python3"
  },
  "language_info": {
   "codemirror_mode": {
    "name": "ipython",
    "version": 3
   },
   "file_extension": ".py",
   "mimetype": "text/x-python",
   "name": "python",
   "nbconvert_exporter": "python",
   "pygments_lexer": "ipython3",
   "version": "3.8.3"
  }
 },
 "nbformat": 4,
 "nbformat_minor": 4
}
